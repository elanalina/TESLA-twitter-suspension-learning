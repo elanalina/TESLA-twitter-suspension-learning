{
 "cells": [
  {
   "cell_type": "markdown",
   "metadata": {},
   "source": [
    "### This part is about how to get the prediction from the account and text and testing the running time of the whole process.\n",
    "#### By: Yue Yang(UIN: 625008110)"
   ]
  },
  {
   "cell_type": "markdown",
   "metadata": {},
   "source": [
    "Our web app is built on python 3. Because of the difference between python 2.x and python 3.x, if we want to use the model created by the teammate, we must use the same versin python. So, we need check the version at first."
   ]
  },
  {
   "cell_type": "code",
   "execution_count": 17,
   "metadata": {},
   "outputs": [
    {
     "name": "stdout",
     "output_type": "stream",
     "text": [
      "/Users/letheyue/anaconda2/envs/yy_py3/bin/python\n",
      "3.6.5 |Anaconda, Inc.| (default, Mar 29 2018, 13:14:23) \n",
      "[GCC 4.2.1 Compatible Clang 4.0.1 (tags/RELEASE_401/final)]\n",
      "sys.version_info(major=3, minor=6, micro=5, releaselevel='final', serial=0)\n"
     ]
    }
   ],
   "source": [
    "import sys\n",
    "print(sys.executable)\n",
    "print(sys.version)\n",
    "print(sys.version_info)"
   ]
  },
  {
   "cell_type": "code",
   "execution_count": 19,
   "metadata": {
    "collapsed": true,
    "scrolled": false
   },
   "outputs": [],
   "source": [
    "import twitter\n",
    "import time\n",
    "\n",
    "api = twitter.Api(consumer_key=CONSUMER_KEY,\n",
    "                     consumer_secret=CONSUMER_SECRET,\n",
    "                     access_token_key=ACCESS_TOKEN_KEY,\n",
    "                     access_token_secret=ACCESS_TOKEN_SECRET)"
   ]
  },
  {
   "cell_type": "markdown",
   "metadata": {},
   "source": [
    "### Step 1: test the account model"
   ]
  },
  {
   "cell_type": "markdown",
   "metadata": {},
   "source": [
    "#### step 1.1: get the account feature"
   ]
  },
  {
   "cell_type": "code",
   "execution_count": 20,
   "metadata": {
    "collapsed": true
   },
   "outputs": [],
   "source": [
    "import pandas as pd\n",
    "import numpy as np\n",
    "\n",
    "def get_user(user_id=None, screen_name=None):\n",
    "    json = api.GetUser(user_id=user_id, screen_name=screen_name, include_entities=True, return_json=False)\n",
    "    json_data = json._json\n",
    "    \n",
    "    # feature Count of favorite tweets\n",
    "    Count_of_favorite_tweets = int(json_data['favourites_count'])\n",
    "    # feature Friends to follower ratio\n",
    "    if json_data['followers_count'] == 0:\n",
    "        Friends_to_follower_ratio = float(100000)\n",
    "    else:\n",
    "        Friends_to_follower_ratio = (float(json_data['friends_count']) / json_data['followers_count'])\n",
    "    # feature Total status count\n",
    "    Total_status_count = int(json_data['statuses_count'])\n",
    "    \n",
    "    # feature Default profile image & Default profile\n",
    "    # def_p_na','def_p_false','def_p_true'\n",
    "    if json_data['default_profile_image'] == 'FALSE':\n",
    "        Def_p_img_false = 1.0\n",
    "        Def_p_img_true = 0.0\n",
    "        Def_p_img_na = 0.0\n",
    "    elif json_data['default_profile_image'] == 'True':\n",
    "        Def_p_img_false = 0.0\n",
    "        Def_p_img_true = 1.0\n",
    "        Def_p_img_na = 0.0\n",
    "    else:\n",
    "        Def_p_img_false = 0.0\n",
    "        Def_p_img_true = 0.0\n",
    "        Def_p_img_na = 1.0\n",
    "\n",
    "    if json_data['default_profile'] == 'FALSE':\n",
    "        Def_p_false = 1.0\n",
    "        Def_p_true = 0.0\n",
    "        Def_p_na = 0.0\n",
    "    elif json_data['default_profile'] == 'True':\n",
    "        Def_p_false = 0.0\n",
    "        Def_p_true = 1.0\n",
    "        Def_p_na = 0.0\n",
    "    else:\n",
    "        Def_p_false = 0.0\n",
    "        Def_p_true = 0.0\n",
    "        Def_p_na = 1.0\n",
    "    \n",
    "    # feature Account ages\n",
    "    created_at = json_data['created_at']\n",
    "    Account_age = survival_time(created_at)\n",
    "\n",
    "    # feature User name and screen_name\n",
    "    User_name = json_data['name']\n",
    "    Screen_name = json_data['screen_name']\n",
    "    User_name_digit, User_name_char = counter(User_name)\n",
    "    Screen_name_digit, Screen_name_char = counter(Screen_name)\n",
    "\n",
    "    # feature Length of description and Description text\n",
    "    description_pre = json_data['description']\n",
    "    Description_length = len(description_pre)\n",
    "    \n",
    "    # feature Average tweet per day\n",
    "    # Average_tweets_per_day = Total_status_count / float(Account_age)\n",
    "    \n",
    "    # feature listed count\n",
    "    Listed_count = json_data['listed_count']\n",
    "    \n",
    "    # feature of description, the number of hashtag, @ and url\n",
    "    Bio_hashtag = json_data['description'].count('#')\n",
    "    Bio_at = json_data['description'].count('@')\n",
    "    Bio_url = json_data['description'].count('http')\n",
    "\n",
    "    feature = pd.DataFrame(index=[0])\n",
    "    feature['favorite_count'] = Count_of_favorite_tweets\n",
    "    feature['friends_to_followers'] = Friends_to_follower_ratio\n",
    "    feature['statuses_count'] = Total_status_count\n",
    "    feature['def_p_img_na'] = Def_p_img_na\n",
    "    feature['def_p_img_false'] = Def_p_img_false\n",
    "    feature['def_p_img_true'] = Def_p_img_true\n",
    "    feature['def_p_na'] = Def_p_na\n",
    "    feature['def_p_false'] = Def_p_false\n",
    "    feature['def_p_true'] = Def_p_true\n",
    "    feature['age'] = Account_age\n",
    "    feature['name_letter'] = User_name_char\n",
    "    feature['name_num'] = User_name_digit\n",
    "    feature['screen_letter'] = Screen_name_char\n",
    "    feature['screen_num'] = Screen_name_digit\n",
    "    feature['des_len'] = Description_length\n",
    "#     feature['avg_tweet_per_day'] = Average_tweets_per_day\n",
    "#     feature['des_text'] = Description_tfidf\n",
    "    feature['listed_count'] = Listed_count\n",
    "    feature['bio_hashtag'] = Bio_hashtag\n",
    "    feature['bio_at'] = Bio_at\n",
    "    feature['bio_url'] = Bio_url\n",
    "\n",
    "    return feature"
   ]
  },
  {
   "cell_type": "code",
   "execution_count": 21,
   "metadata": {
    "collapsed": true
   },
   "outputs": [],
   "source": [
    "def survival_time(created_at):\n",
    "    # get the account ages: crawl at time - created at time \n",
    "    current_time = time.localtime(time.time())\n",
    "    current_year = current_time.tm_year\n",
    "    current_month = current_time.tm_mon\n",
    "    current_day = current_time.tm_mday\n",
    "\n",
    "    meta = created_at.split(\" \")\n",
    "    created_month = meta[1]\n",
    "    if created_month == 'Jan':\n",
    "        created_month = int(1)\n",
    "    elif created_month == 'Feb':\n",
    "        created_month = int(2)\n",
    "    elif created_month == 'Mar':\n",
    "        created_month = int(3)\n",
    "    elif created_month == 'Apr':\n",
    "        created_month = int(4)\n",
    "    elif created_month == 'May':\n",
    "        created_month = int(5)\n",
    "    elif created_month == 'Jun':\n",
    "        created_month = int(6)\n",
    "    elif created_month == 'Jul':\n",
    "        created_month = int(7)\n",
    "    elif created_month == 'Aug':\n",
    "        created_month = int(8)\n",
    "    elif created_month == 'Sep':\n",
    "        created_month = int(9)\n",
    "    elif created_month == 'Oct':\n",
    "        created_month = int(10)\n",
    "    elif created_month == 'Nov':\n",
    "        created_month = int(11)\n",
    "    elif created_month == 'Dec':\n",
    "        created_month = int(12)\n",
    "    created_day = int(meta[2])\n",
    "    created_year = int(meta[5])\n",
    "\n",
    "    Account_age = (current_year - created_year) * 365 + (current_month - created_month) * 30 + (current_day - created_day)\n",
    "\n",
    "    return Account_age\n",
    "\n",
    "def counter(name):\n",
    "    # counter of char & counter of digit\n",
    "    numbers = sum(c.isdigit() for c in name)\n",
    "    words   = sum(c.isalpha() for c in name)\n",
    "\n",
    "    return numbers, words"
   ]
  },
  {
   "cell_type": "markdown",
   "metadata": {},
   "source": [
    "### measure the running time of the whole process of prediction through account model"
   ]
  },
  {
   "cell_type": "code",
   "execution_count": 22,
   "metadata": {
    "collapsed": true
   },
   "outputs": [],
   "source": [
    "from sklearn.externals import joblib\n",
    "\n",
    "def measure_time(user_id=None, screen_name=None):\n",
    "    # measure the running time of getting the features from the input\n",
    "    start = time.clock()\n",
    "    \n",
    "    with open(\"classifier/rf_user_2.pkl\", \"rb\") as file_handler:\n",
    "        loaded_pickle = joblib.load(file_handler)\n",
    "    feature = get_user(screen_name=screen_name)\n",
    "    np_feature = np.asarray((feature))\n",
    "    pred_account = loaded_pickle.predict(np_feature.tolist())\n",
    "    print(pred_account[0])\n",
    "    \n",
    "    end = time.clock()\n",
    "    print('function took %0.5f ms' % ((end-start)*1000.0))"
   ]
  },
  {
   "cell_type": "code",
   "execution_count": 23,
   "metadata": {},
   "outputs": [
    {
     "name": "stdout",
     "output_type": "stream",
     "text": [
      "0\n",
      "function took 1749.29100 ms\n"
     ]
    }
   ],
   "source": [
    "measure_time(screen_name='realDonaldTrump')"
   ]
  },
  {
   "cell_type": "markdown",
   "metadata": {},
   "source": [
    "### Step 2: test the text model"
   ]
  },
  {
   "cell_type": "markdown",
   "metadata": {},
   "source": [
    "#### Step 2.1 : get the latest tweet of the user"
   ]
  },
  {
   "cell_type": "code",
   "execution_count": 24,
   "metadata": {
    "collapsed": true
   },
   "outputs": [],
   "source": [
    "timeline = api.GetUserTimeline(screen_name=\"realDonaldTrump\")"
   ]
  },
  {
   "cell_type": "code",
   "execution_count": 25,
   "metadata": {},
   "outputs": [
    {
     "data": {
      "text/plain": [
       "[Status(ID=986643179452747776, ScreenName=realDonaldTrump, Created=Wed Apr 18 16:30:39 +0000 2018, Text='Best wishes to Prime Minister @Netanyahu and all of the people of Israel on the 70th Anniversary of your Great Inde… https://t.co/xRwM6h8nfl'),\n",
       " Status(ID=986576502358671361, ScreenName=realDonaldTrump, Created=Wed Apr 18 12:05:42 +0000 2018, Text='Slippery James Comey, the worst FBI Director in history, was not fired because of the phony Russia investigation wh… https://t.co/iJO4tejdw6'),\n",
       " Status(ID=986555533535731712, ScreenName=realDonaldTrump, Created=Wed Apr 18 10:42:23 +0000 2018, Text='Mike Pompeo met with Kim Jong Un in North Korea last week. Meeting went very smoothly and a good relationship was f… https://t.co/5zMrs47vF3'),\n",
       " Status(ID=986547093610299392, ScreenName=realDonaldTrump, Created=Wed Apr 18 10:08:50 +0000 2018, Text='A sketch years later about a nonexistent man. A total con job, playing the Fake News Media for Fools (but they know… https://t.co/EcZ0Hs5IJg'),\n",
       " Status(ID=986544648477868032, ScreenName=realDonaldTrump, Created=Wed Apr 18 09:59:07 +0000 2018, Text='There is a Revolution going on in California. Soooo many Sanctuary areas want OUT of this ridiculous, crime infeste… https://t.co/hNQmJXQ0Zz'),\n",
       " Status(ID=986541247237181441, ScreenName=realDonaldTrump, Created=Wed Apr 18 09:45:37 +0000 2018, Text='RT @AbeShinzo: フロリダに到着し、早速トランプ大統領との首脳会談に臨みました。今日は、大半を北朝鮮問題に費やし、非常に重要な点で認識を一致させることができました。\\n「日本のために最善となるようベストを尽くす」\\nトランプ大統領は、来る米朝首脳会談で拉致問題を取り上げ…'),\n",
       " Status(ID=986540705538506752, ScreenName=realDonaldTrump, Created=Wed Apr 18 09:43:27 +0000 2018, Text='RT @IvankaTrump: This year’s #TaxDay is the last time you’ll have to file your taxes through an outdated, broken system. #BYE-BYE https://t…'),\n",
       " Status(ID=986540502064484354, ScreenName=realDonaldTrump, Created=Wed Apr 18 09:42:39 +0000 2018, Text='RT @realDonaldTrump: States and Cities throughout our Country are being cheated and treated so badly by online retailers. Very unfair to tr…'),\n",
       " Status(ID=986540431436640256, ScreenName=realDonaldTrump, Created=Wed Apr 18 09:42:22 +0000 2018, Text='RT @realDonaldTrump: Today’s Court decision means that Congress must close loopholes that block the removal of dangerous criminal aliens, i…'),\n",
       " Status(ID=986540409903042560, ScreenName=realDonaldTrump, Created=Wed Apr 18 09:42:17 +0000 2018, Text='RT @realDonaldTrump: ....Congress – House and Senate must quickly pass a legislative fix to ensure violent criminal aliens can be removed f…'),\n",
       " Status(ID=986436520444866560, ScreenName=realDonaldTrump, Created=Wed Apr 18 02:49:28 +0000 2018, Text='While Japan and South Korea would like us to go back into TPP, I don’t like the deal for the United States. Too man… https://t.co/IYwJhsGNsF'),\n",
       " Status(ID=986432143189512192, ScreenName=realDonaldTrump, Created=Wed Apr 18 02:32:04 +0000 2018, Text='Pastor Andrew Brunson, a fine gentleman and Christian leader in the United States, is on trial and being persecuted… https://t.co/NCEchahdPc'),\n",
       " Status(ID=986430856750395392, ScreenName=realDonaldTrump, Created=Wed Apr 18 02:26:57 +0000 2018, Text='It is my great honor to host @JPN_PMO @AbeShinzo! https://t.co/QxMpCGRycF'),\n",
       " Status(ID=986430103075868672, ScreenName=realDonaldTrump, Created=Wed Apr 18 02:23:58 +0000 2018, Text='.@FLOTUS Melania and I join the Nation in celebrating the life of Barbara Bush: https://t.co/4OW72iddQx'),\n",
       " Status(ID=986378606606737408, ScreenName=realDonaldTrump, Created=Tue Apr 17 22:59:20 +0000 2018, Text='States and Cities throughout our Country are being cheated and treated so badly by online retailers. Very unfair to… https://t.co/CSLMfhPLLq'),\n",
       " Status(ID=986362521417371648, ScreenName=realDonaldTrump, Created=Tue Apr 17 21:55:25 +0000 2018, Text='RT @IvankaTrump: Great to be with Secretary Mnuchin &amp; former Governor Sununu in Derry, NH on #TaxDay to highlight the tremendous benefits o…'),\n",
       " Status(ID=986362433479610370, ScreenName=realDonaldTrump, Created=Tue Apr 17 21:55:04 +0000 2018, Text='RT @FoxBusiness: WATCH LIVE: @IvankaTrump and @stevenmnuchin1 host tax event on Tax Day in New Hampshire. (Courtesy: WBZ) https://t.co/C3zr…'),\n",
       " Status(ID=986357230219022342, ScreenName=realDonaldTrump, Created=Tue Apr 17 21:34:23 +0000 2018, Text='....Congress – House and Senate must quickly pass a legislative fix to ensure violent criminal aliens can be remove… https://t.co/lwGag991ch'),\n",
       " Status(ID=986357228306354178, ScreenName=realDonaldTrump, Created=Tue Apr 17 21:34:23 +0000 2018, Text='Today’s Court decision means that Congress must close loopholes that block the removal of dangerous criminal aliens… https://t.co/6W1sRzLH1f'),\n",
       " Status(ID=986344953134673922, ScreenName=realDonaldTrump, Created=Tue Apr 17 20:45:36 +0000 2018, Text='Welcome Prime Minister Abe! https://t.co/538EYyfWDq')]"
      ]
     },
     "execution_count": 25,
     "metadata": {},
     "output_type": "execute_result"
    }
   ],
   "source": [
    "timeline"
   ]
  },
  {
   "cell_type": "code",
   "execution_count": 26,
   "metadata": {
    "collapsed": true
   },
   "outputs": [],
   "source": [
    "list_text = list()\n",
    "index = 0\n",
    "for item in timeline:\n",
    "    index += 1\n",
    "    data = item._json\n",
    "    list_text.append(data['text'])\n",
    "    if index == 1:\n",
    "        break"
   ]
  },
  {
   "cell_type": "code",
   "execution_count": 27,
   "metadata": {},
   "outputs": [
    {
     "name": "stdout",
     "output_type": "stream",
     "text": [
      "The latest tweet of the user is:\n"
     ]
    },
    {
     "data": {
      "text/plain": [
       "['Best wishes to Prime Minister @Netanyahu and all of the people of Israel on the 70th Anniversary of your Great Inde… https://t.co/xRwM6h8nfl']"
      ]
     },
     "execution_count": 27,
     "metadata": {},
     "output_type": "execute_result"
    }
   ],
   "source": [
    "print(\"The latest tweet of the user is:\")\n",
    "list_text"
   ]
  },
  {
   "cell_type": "markdown",
   "metadata": {},
   "source": [
    "#### step2 : pre-process the text"
   ]
  },
  {
   "cell_type": "code",
   "execution_count": 28,
   "metadata": {
    "collapsed": true
   },
   "outputs": [],
   "source": [
    "import re\n",
    "from urllib.parse import urlparse\n",
    "from bs4 import BeautifulSoup\n",
    "from nltk.tokenize import WordPunctTokenizer\n",
    "tok = WordPunctTokenizer()\n",
    "\n",
    "pat1 = r'@[A-Za-z0-9_]+'\n",
    "pat2 = r\"(?P<url>https?://[^\\s]+)\"\n",
    "combined_pat = r'|'.join((pat1, pat2))\n",
    "\n",
    "def tweet_cleaner_updated(text):\n",
    "    try:\n",
    "        mention = re.search(pat1, text).group()\n",
    "    except:\n",
    "        mention = ''\n",
    "    try:\n",
    "        url = re.search(pat2, text).group(\"url\")\n",
    "        o = urlparse(url)\n",
    "        netloc = o.netloc\n",
    "        path = p.path\n",
    "    except:\n",
    "        netloc = ''\n",
    "        path = ''\n",
    "    soup = BeautifulSoup(text, 'html.parser')\n",
    "    souped = soup.get_text()\n",
    "    try:\n",
    "        bom_removed = souped.decode(\"utf-8-sig\").replace(u\"\\u2026\", \"?\")\n",
    "    except:\n",
    "        bom_removed = souped\n",
    "    stripped = re.sub(combined_pat, '', bom_removed)\n",
    "    lower_case = stripped.lower()\n",
    "    letters_only = re.sub(\"[^a-zA-Z]\", \" \", lower_case)\n",
    "    letters_only = letters_only + netloc + path + mention\n",
    "    # During the letters_only process two lines above, it has created unnecessay white spaces,\n",
    "    # I will tokenize and join together to remove unneccessary white spaces\n",
    "    words = [x for x  in tok.tokenize(letters_only) if len(x) > 1]\n",
    "    return (\" \".join(words)).strip()"
   ]
  },
  {
   "cell_type": "code",
   "execution_count": 29,
   "metadata": {
    "collapsed": true
   },
   "outputs": [],
   "source": [
    "text = tweet_cleaner_updated(list_text[0])"
   ]
  },
  {
   "cell_type": "code",
   "execution_count": 30,
   "metadata": {},
   "outputs": [
    {
     "name": "stdout",
     "output_type": "stream",
     "text": [
      "The text of pre-processing is:\n"
     ]
    },
    {
     "data": {
      "text/plain": [
       "'best wishes to prime minister and all of the people of israel on the th anniversary of your great inde Netanyahu'"
      ]
     },
     "execution_count": 30,
     "metadata": {},
     "output_type": "execute_result"
    }
   ],
   "source": [
    "print(\"The text of pre-processing is:\")\n",
    "text"
   ]
  },
  {
   "cell_type": "markdown",
   "metadata": {},
   "source": [
    "#### step 3: convert the text to vector features"
   ]
  },
  {
   "cell_type": "code",
   "execution_count": 32,
   "metadata": {},
   "outputs": [],
   "source": [
    "import pickle\n",
    "import numpy as np\n",
    "\n",
    "with open('classifier/pos_hmean.p', 'rb') as fp:\n",
    "    w2v_pos_hmean_01 = pickle.load(fp, encoding='latin1')"
   ]
  },
  {
   "cell_type": "code",
   "execution_count": 33,
   "metadata": {
    "collapsed": true
   },
   "outputs": [],
   "source": [
    "def get_w2v_general(tweet, size, vectors):\n",
    "    vec = np.zeros(size).reshape((1, size))\n",
    "    count = 0.\n",
    "    for word in tweet.split():\n",
    "        try:\n",
    "            vec += vectors[word].reshape((1, size))\n",
    "            count += 1.\n",
    "        except KeyError:\n",
    "            continue\n",
    "    if count != 0:\n",
    "        vec /= count\n",
    "    return vec"
   ]
  },
  {
   "cell_type": "code",
   "execution_count": 34,
   "metadata": {
    "collapsed": true
   },
   "outputs": [],
   "source": [
    "text = get_w2v_general(text, 200, w2v_pos_hmean_01)"
   ]
  },
  {
   "cell_type": "code",
   "execution_count": 35,
   "metadata": {},
   "outputs": [
    {
     "name": "stdout",
     "output_type": "stream",
     "text": [
      "The vector after converting we get:\n"
     ]
    },
    {
     "data": {
      "text/plain": [
       "array([[ 0.29363613, -0.13414309,  0.23163194, -0.19407212, -0.08049656,\n",
       "        -0.4527868 ,  0.57960978,  0.8215894 ,  0.34427389,  0.22781383,\n",
       "         0.06217574,  0.59507235,  0.04497319, -0.29434509,  0.66448316,\n",
       "        -0.83753664, -0.49833031, -0.00834269,  0.78028165,  0.6007587 ,\n",
       "        -0.25693855,  0.37303438,  0.83198129, -0.25038035, -0.3521909 ,\n",
       "        -0.2967161 ,  0.26776673, -0.27395859, -0.67257661,  0.11864048,\n",
       "        -0.17793136, -0.62188897,  0.47119962, -0.85762493,  0.06408137,\n",
       "        -0.23893477, -0.35725511,  0.1270298 ,  0.23592222,  0.29180517,\n",
       "         1.05172305, -0.3015131 , -0.00380763,  0.18064061,  0.32413879,\n",
       "        -0.09178447,  0.2558675 ,  0.26000569, -0.39713907, -0.17771211,\n",
       "        -0.49688988,  1.40566771,  0.12925726, -0.59132192, -0.08977496,\n",
       "         0.48567726,  0.14237436,  0.01197417,  1.29863416,  0.6431513 ,\n",
       "        -0.06247757, -0.48087426, -0.64353769,  0.06104737, -0.57256479,\n",
       "         0.27234417,  0.05765121,  0.10007235, -0.22819311, -0.40277822,\n",
       "        -0.05217086, -0.10528391,  0.09573978, -0.39751344,  0.61921352,\n",
       "         0.07213033, -0.27567228, -0.05568958, -0.66985478, -0.8954892 ,\n",
       "        -0.30779458, -0.66538391, -0.10296315, -0.28516584,  0.30360275,\n",
       "        -0.13248281,  0.43637228, -0.26355449,  0.31118608,  0.33010957,\n",
       "         0.62326724, -0.53108924,  0.66278892,  0.36141016,  0.06078568,\n",
       "         0.82523039,  0.64634202, -0.02830355,  0.31844261,  0.90689075,\n",
       "         0.02206794,  0.34067597, -0.05051987,  0.20985038, -0.22180116,\n",
       "        -0.07624457,  0.0520299 , -0.36057679, -0.03332701, -0.17308602,\n",
       "         0.02104404, -0.16608289, -0.29499492, -0.1027856 ,  0.04852052,\n",
       "         0.0614448 , -0.04204019, -0.03820109, -0.11528452,  0.04562331,\n",
       "        -0.0834444 , -0.13453296, -0.0256987 ,  0.13709815,  0.13135663,\n",
       "        -0.13379403, -0.02241049, -0.0074764 , -0.19301353, -0.08888538,\n",
       "        -0.06601018,  0.10416257, -0.22130418, -0.21357597, -0.07182121,\n",
       "         0.2615097 , -0.1873633 ,  0.21334769,  0.02125688, -0.1398245 ,\n",
       "        -0.17973298,  0.10729796, -0.11435247, -0.24320274,  0.02523362,\n",
       "        -0.20570432,  0.00509658,  0.03182775,  0.31190748,  0.09741981,\n",
       "        -0.13850172,  0.16614535, -0.05125644, -0.0802441 , -0.11717421,\n",
       "        -0.04584114,  0.01546381,  0.01685515, -0.22335551, -0.0084058 ,\n",
       "        -0.11278479,  0.01736498,  0.09275488,  0.02266894,  0.16932669,\n",
       "        -0.06449307, -0.04400921,  0.0764577 ,  0.22683346,  0.06723004,\n",
       "        -0.04835749, -0.06232804, -0.19968953, -0.05275565, -0.17433457,\n",
       "        -0.16502136,  0.12957714,  0.14842663, -0.0819739 ,  0.0387789 ,\n",
       "        -0.02733704,  0.03541481,  0.06411575,  0.10647185, -0.02489637,\n",
       "         0.08679249, -0.13370544, -0.00434545,  0.24420596, -0.1222122 ,\n",
       "        -0.2974621 , -0.08260794, -0.11556778,  0.01141061,  0.11643395,\n",
       "         0.23027672, -0.09676405,  0.13413576,  0.05626294, -0.06153736]])"
      ]
     },
     "execution_count": 35,
     "metadata": {},
     "output_type": "execute_result"
    }
   ],
   "source": [
    "print(\"The vector after converting we get:\")\n",
    "text"
   ]
  },
  {
   "cell_type": "markdown",
   "metadata": {},
   "source": [
    "####  step 4: get the prediction"
   ]
  },
  {
   "cell_type": "code",
   "execution_count": 37,
   "metadata": {},
   "outputs": [],
   "source": [
    "from keras.models import load_model\n",
    "loaded_w2v_model = load_model('classifier/w2v_01_best_weights.10-0.9346.hdf5')"
   ]
  },
  {
   "cell_type": "code",
   "execution_count": 38,
   "metadata": {
    "collapsed": true
   },
   "outputs": [],
   "source": [
    "pred = loaded_w2v_model.predict(text)"
   ]
  },
  {
   "cell_type": "code",
   "execution_count": 39,
   "metadata": {},
   "outputs": [
    {
     "data": {
      "text/plain": [
       "1.0"
      ]
     },
     "execution_count": 39,
     "metadata": {},
     "output_type": "execute_result"
    }
   ],
   "source": [
    "pred[0][0]"
   ]
  },
  {
   "cell_type": "markdown",
   "metadata": {},
   "source": [
    "### measure the running time of the whole process of prediction through text model"
   ]
  },
  {
   "cell_type": "code",
   "execution_count": 46,
   "metadata": {
    "collapsed": true
   },
   "outputs": [],
   "source": [
    "def measure_running_time(user_id=None, screen_name=None):\n",
    "    # measure the running time of getting the features from the input\n",
    "    start = time.clock()\n",
    "    # get the timeline of user\n",
    "    timeline = api.GetUserTimeline(screen_name=screen_name)\n",
    "    \n",
    "    # get the first text\n",
    "    list_text = list()\n",
    "    index = 0\n",
    "    for item in timeline:\n",
    "        index += 1\n",
    "        data = item._json\n",
    "        list_text.append(data['text'])\n",
    "        if index == 1:\n",
    "            break\n",
    "            \n",
    "    # pre-processing the data\n",
    "    text = tweet_cleaner_updated(list_text[0])\n",
    "    \n",
    "    # load the function\n",
    "    with open('classifier/pos_hmean.p', 'rb') as fp:\n",
    "        w2v_pos_hmean_01 = pickle.load(fp, encoding='latin1')\n",
    "    loaded_w2v_model = load_model('classifier/w2v_01_best_weights.10-0.9346.hdf5')\n",
    "    \n",
    "    # get the prediction value\n",
    "    text = get_w2v_general(text, 200, w2v_pos_hmean_01)\n",
    "    pred = loaded_w2v_model.predict(text)\n",
    "    print(pred[0][0])\n",
    "    \n",
    "    end = time.clock()\n",
    "    print('function took %0.5f ms' % ((end-start)*1000.0))"
   ]
  },
  {
   "cell_type": "code",
   "execution_count": 47,
   "metadata": {},
   "outputs": [
    {
     "name": "stdout",
     "output_type": "stream",
     "text": [
      "1.0\n",
      "function took 2559.46000 ms\n"
     ]
    }
   ],
   "source": [
    "measure_running_time(screen_name='realDonaldTrump')"
   ]
  },
  {
   "cell_type": "code",
   "execution_count": null,
   "metadata": {
    "collapsed": true
   },
   "outputs": [],
   "source": []
  }
 ],
 "metadata": {
  "kernelspec": {
   "display_name": "yy_py3",
   "language": "python",
   "name": "yy_py3"
  },
  "language_info": {
   "codemirror_mode": {
    "name": "ipython",
    "version": 3
   },
   "file_extension": ".py",
   "mimetype": "text/x-python",
   "name": "python",
   "nbconvert_exporter": "python",
   "pygments_lexer": "ipython3",
   "version": "3.6.5"
  }
 },
 "nbformat": 4,
 "nbformat_minor": 2
}
