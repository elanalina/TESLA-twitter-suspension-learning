{
 "cells": [
  {
   "cell_type": "markdown",
   "metadata": {},
   "source": [
    "## This part is for testing: load self-defined classifier by local"
   ]
  },
  {
   "cell_type": "code",
   "execution_count": 154,
   "metadata": {},
   "outputs": [
    {
     "data": {
      "text/plain": [
       "DecisionTreeClassifier(class_weight=None, criterion='gini', max_depth=None,\n",
       "            max_features=None, max_leaf_nodes=None,\n",
       "            min_impurity_decrease=0.0, min_impurity_split=None,\n",
       "            min_samples_leaf=1, min_samples_split=2,\n",
       "            min_weight_fraction_leaf=0.0, presort=False, random_state=None,\n",
       "            splitter='best')"
      ]
     },
     "execution_count": 154,
     "metadata": {},
     "output_type": "execute_result"
    }
   ],
   "source": [
    "import pickle\n",
    "from sklearn.externals import joblib\n",
    "\n",
    "with open(\"classifier/decision_tree_user.pkl\", \"rb\") as file_handler:\n",
    "    loaded_pickle = joblib.load(file_handler)\n",
    "\n",
    "loaded_pickle"
   ]
  },
  {
   "cell_type": "code",
   "execution_count": 3,
   "metadata": {
    "collapsed": true
   },
   "outputs": [],
   "source": [
    "\n",
    "import twitter\n",
    "import time\n",
    "from sklearn.feature_extraction.text import CountVectorizer\n",
    "from sklearn.feature_extraction.text import TfidfTransformer, TfidfVectorizer\n",
    "\n",
    "api = twitter.Api(consumer_key=CONSUMER_KEY,\n",
    "                     consumer_secret=CONSUMER_SECRET,\n",
    "                     access_token_key=ACCESS_TOKEN_KEY,\n",
    "                     access_token_secret=ACCESS_TOKEN_SECRET)"
   ]
  },
  {
   "cell_type": "code",
   "execution_count": 130,
   "metadata": {
    "collapsed": true
   },
   "outputs": [],
   "source": [
    "import pandas as pd\n",
    "\n",
    "def get_user(user_id=None, screen_name=None):\n",
    "    json = api.GetUser(user_id=user_id, screen_name=screen_name, include_entities=True, return_json=False)\n",
    "    json_data = json._json\n",
    "    \n",
    "    # feature Count of favorite tweets\n",
    "    Count_of_favorite_tweets = int(json_data['favourites_count'])\n",
    "    # feature Friends to follower ratio\n",
    "    Friends_to_follower_ratio = float(round(float(json_data['friends_count']) / json_data['followers_count'],6))\n",
    "    # feature Total status count\n",
    "    Total_status_count = int(json_data['statuses_count'])\n",
    "    \n",
    "    # feature Default profile image & Default profile\n",
    "    # def_p_na','def_p_false','def_p_true'\n",
    "    if json_data['default_profile_image'] == 'FALSE':\n",
    "        Def_p_img_false = 1.0\n",
    "        Def_p_img_true = 0.0\n",
    "        Def_p_img_na = 0.0\n",
    "    elif json_data['default_profile_image'] == 'True':\n",
    "        Def_p_img_false = 0.0\n",
    "        Def_p_img_true = 1.0\n",
    "        Def_p_img_na = 0.0\n",
    "    else:\n",
    "        Def_p_img_false = 0.0\n",
    "        Def_p_img_true = 0.0\n",
    "        Def_p_img_na = 1.0\n",
    "\n",
    "    if json_data['default_profile'] == 'FALSE':\n",
    "        Def_p_false = 1.0\n",
    "        Def_p_true = 0.0\n",
    "        Def_p_na = 0.0\n",
    "    elif json_data['default_profile'] == 'True':\n",
    "        Def_p_false = 0.0\n",
    "        Def_p_true = 1.0\n",
    "        Def_p_na = 0.0\n",
    "    else:\n",
    "        Def_p_false = 0.0\n",
    "        Def_p_true = 0.0\n",
    "        Def_p_na = 1.0\n",
    "    \n",
    "    # feature Account ages\n",
    "    created_at = json_data['created_at']\n",
    "    Account_age = survival_time(created_at)\n",
    "\n",
    "    # feature User name and screen_name\n",
    "    User_name = json_data['name']\n",
    "    Screen_name = json_data['screen_name']\n",
    "    User_name_digit, User_name_char = counter(User_name)\n",
    "    Screen_name_digit, Screen_name_char = counter(Screen_name)\n",
    "\n",
    "    # feature Length of description and Description text\n",
    "    description_pre = json_data['description']\n",
    "    Description_length = len(description_pre)\n",
    "    \n",
    "    # feature Average tweet per day\n",
    "    Average_tweets_per_day = Total_status_count / float(Account_age)\n",
    "\n",
    "    feature = pd.DataFrame(index=[0])\n",
    "    feature['favorite_count'] = Count_of_favorite_tweets\n",
    "    feature['friends_to_followers'] = Friends_to_follower_ratio\n",
    "    feature['statuses_count'] = Total_status_count\n",
    "    feature['def_p_img_na'] = Def_p_img_na\n",
    "    feature['def_p_img_false'] = Def_p_img_false\n",
    "    feature['def_p_img_true'] = Def_p_img_true\n",
    "    feature['def_p_na'] = Def_p_na\n",
    "    feature['def_p_false'] = Def_p_false\n",
    "    feature['def_p_true'] = Def_p_true\n",
    "    feature['age'] = Account_age\n",
    "    feature['name_letter'] = User_name_char\n",
    "    feature['name_num'] = User_name_digit\n",
    "    feature['screen_letter'] = Screen_name_char\n",
    "    feature['screen_num'] = Screen_name_digit\n",
    "    feature['des_len'] = Description_length\n",
    "    feature['avg_tweet_per_day'] = Average_tweets_per_day\n",
    "#     feature['des_text'] = Description_tfidf\n",
    "\n",
    "    return feature"
   ]
  },
  {
   "cell_type": "code",
   "execution_count": 131,
   "metadata": {
    "collapsed": true
   },
   "outputs": [],
   "source": [
    "def counter(name):\n",
    "    # counter of char & counter of digit\n",
    "    numbers = sum(c.isdigit() for c in name)\n",
    "    words   = sum(c.isalpha() for c in name)\n",
    "\n",
    "    return numbers, words"
   ]
  },
  {
   "cell_type": "code",
   "execution_count": 132,
   "metadata": {
    "collapsed": true
   },
   "outputs": [],
   "source": [
    "def preprocess_description(user_id=None, screen_name=None):\n",
    "    # preprocess the description text\n",
    "    json = api.GetUser(user_id=user_id, screen_name=screen_name, include_entities=True, return_json=False)\n",
    "    json_data = json._json\n",
    "    description = json_data[\"description\"]\n",
    "    \n",
    "    des_list = list()\n",
    "    des_list.append(description)\n",
    "    \n",
    "    tfidf_transformer = TfidfVectorizer()\n",
    "    des_text = tfidf_transformer.fit_transform(des_list)\n",
    "    \n",
    "    return des_text"
   ]
  },
  {
   "cell_type": "code",
   "execution_count": 133,
   "metadata": {
    "collapsed": true
   },
   "outputs": [],
   "source": [
    "def survival_time(created_at):\n",
    "    # get the account ages: crawl at time - created at time \n",
    "    current_time = time.localtime(time.time())\n",
    "    current_year = current_time.tm_year\n",
    "    current_month = current_time.tm_mon\n",
    "    current_day = current_time.tm_mday\n",
    "\n",
    "    meta = created_at.split(\" \")\n",
    "    created_month = meta[1]\n",
    "    if created_month == 'Jan':\n",
    "        created_month = int(1)\n",
    "    elif created_month == 'Feb':\n",
    "        created_month = int(2)\n",
    "    elif created_month == 'Mar':\n",
    "        created_month = int(3)\n",
    "    elif created_month == 'Apr':\n",
    "        created_month = int(4)\n",
    "    elif created_month == 'May':\n",
    "        created_month = int(5)\n",
    "    elif created_month == 'Jun':\n",
    "        created_month = int(6)\n",
    "    elif created_month == 'Jul':\n",
    "        created_month = int(7)\n",
    "    elif created_month == 'Aug':\n",
    "        created_month = int(8)\n",
    "    elif created_month == 'Sep':\n",
    "        created_month = int(9)\n",
    "    elif created_month == 'Oct':\n",
    "        created_month = int(10)\n",
    "    elif created_month == 'Nov':\n",
    "        created_month = int(11)\n",
    "    elif created_month == 'Dec':\n",
    "        created_month = int(12)\n",
    "    created_day = int(meta[2])\n",
    "    created_year = int(meta[5])\n",
    "\n",
    "    Account_age = (current_year - created_year) * 365 + (current_month - created_month) * 30 + (current_day - created_day)\n",
    "\n",
    "    return Account_age"
   ]
  },
  {
   "cell_type": "code",
   "execution_count": 134,
   "metadata": {},
   "outputs": [],
   "source": [
    "feature = get_user(screen_name=\"realDonaldTrump\")"
   ]
  },
  {
   "cell_type": "code",
   "execution_count": 135,
   "metadata": {},
   "outputs": [
    {
     "data": {
      "text/html": [
       "<div>\n",
       "<style>\n",
       "    .dataframe thead tr:only-child th {\n",
       "        text-align: right;\n",
       "    }\n",
       "\n",
       "    .dataframe thead th {\n",
       "        text-align: left;\n",
       "    }\n",
       "\n",
       "    .dataframe tbody tr th {\n",
       "        vertical-align: top;\n",
       "    }\n",
       "</style>\n",
       "<table border=\"1\" class=\"dataframe\">\n",
       "  <thead>\n",
       "    <tr style=\"text-align: right;\">\n",
       "      <th></th>\n",
       "      <th>favorite_count</th>\n",
       "      <th>friends_to_followers</th>\n",
       "      <th>statuses_count</th>\n",
       "      <th>def_p_img_na</th>\n",
       "      <th>def_p_img_false</th>\n",
       "      <th>def_p_img_true</th>\n",
       "      <th>def_p_na</th>\n",
       "      <th>def_p_false</th>\n",
       "      <th>def_p_true</th>\n",
       "      <th>age</th>\n",
       "      <th>name_letter</th>\n",
       "      <th>name_num</th>\n",
       "      <th>screen_letter</th>\n",
       "      <th>screen_num</th>\n",
       "      <th>des_len</th>\n",
       "      <th>avg_tweet_per_day</th>\n",
       "    </tr>\n",
       "  </thead>\n",
       "  <tbody>\n",
       "    <tr>\n",
       "      <th>0</th>\n",
       "      <td>24</td>\n",
       "      <td>0.000001</td>\n",
       "      <td>37296</td>\n",
       "      <td>1.0</td>\n",
       "      <td>0.0</td>\n",
       "      <td>0.0</td>\n",
       "      <td>1.0</td>\n",
       "      <td>0.0</td>\n",
       "      <td>0.0</td>\n",
       "      <td>3310</td>\n",
       "      <td>12</td>\n",
       "      <td>0</td>\n",
       "      <td>15</td>\n",
       "      <td>0</td>\n",
       "      <td>50</td>\n",
       "      <td>11.267674</td>\n",
       "    </tr>\n",
       "  </tbody>\n",
       "</table>\n",
       "</div>"
      ],
      "text/plain": [
       "   favorite_count  friends_to_followers  statuses_count  def_p_img_na  \\\n",
       "0              24              0.000001           37296           1.0   \n",
       "\n",
       "   def_p_img_false  def_p_img_true  def_p_na  def_p_false  def_p_true   age  \\\n",
       "0              0.0             0.0       1.0          0.0         0.0  3310   \n",
       "\n",
       "   name_letter  name_num  screen_letter  screen_num  des_len  \\\n",
       "0           12         0             15           0       50   \n",
       "\n",
       "   avg_tweet_per_day  \n",
       "0          11.267674  "
      ]
     },
     "execution_count": 135,
     "metadata": {},
     "output_type": "execute_result"
    }
   ],
   "source": [
    "feature"
   ]
  },
  {
   "cell_type": "code",
   "execution_count": 136,
   "metadata": {},
   "outputs": [],
   "source": [
    "des_text = preprocess_description(screen_name=\"realDonaldTrump\")"
   ]
  },
  {
   "cell_type": "code",
   "execution_count": 137,
   "metadata": {},
   "outputs": [
    {
     "data": {
      "text/plain": [
       "(1, 16)"
      ]
     },
     "execution_count": 137,
     "metadata": {},
     "output_type": "execute_result"
    }
   ],
   "source": [
    "feature.shape"
   ]
  },
  {
   "cell_type": "code",
   "execution_count": 142,
   "metadata": {},
   "outputs": [
    {
     "data": {
      "text/plain": [
       "favorite_count            int64\n",
       "friends_to_followers    float64\n",
       "statuses_count            int64\n",
       "def_p_img_na            float64\n",
       "def_p_img_false         float64\n",
       "def_p_img_true          float64\n",
       "def_p_na                float64\n",
       "def_p_false             float64\n",
       "def_p_true              float64\n",
       "age                       int64\n",
       "name_letter               int64\n",
       "name_num                  int64\n",
       "screen_letter             int64\n",
       "screen_num                int64\n",
       "des_len                   int64\n",
       "avg_tweet_per_day       float64\n",
       "dtype: object"
      ]
     },
     "execution_count": 142,
     "metadata": {},
     "output_type": "execute_result"
    }
   ],
   "source": [
    "feature.dtypes"
   ]
  },
  {
   "cell_type": "code",
   "execution_count": 138,
   "metadata": {},
   "outputs": [
    {
     "data": {
      "text/plain": [
       "<bound method csr_matrix.toarray of <1x12 sparse matrix of type '<type 'numpy.float64'>'\n",
       "\twith 12 stored elements in Compressed Sparse Row format>>"
      ]
     },
     "execution_count": 138,
     "metadata": {},
     "output_type": "execute_result"
    }
   ],
   "source": [
    "des_text.toarray"
   ]
  },
  {
   "cell_type": "code",
   "execution_count": 139,
   "metadata": {},
   "outputs": [
    {
     "data": {
      "text/plain": [
       "(1, 12)"
      ]
     },
     "execution_count": 139,
     "metadata": {},
     "output_type": "execute_result"
    }
   ],
   "source": [
    "des_text.shape"
   ]
  },
  {
   "cell_type": "code",
   "execution_count": 148,
   "metadata": {},
   "outputs": [],
   "source": [
    "import numpy as np\n",
    "np_feature = np.asarray((feature))"
   ]
  },
  {
   "cell_type": "code",
   "execution_count": 149,
   "metadata": {},
   "outputs": [
    {
     "data": {
      "text/plain": [
       "(1, 16)"
      ]
     },
     "execution_count": 149,
     "metadata": {},
     "output_type": "execute_result"
    }
   ],
   "source": [
    "np_feature.shape"
   ]
  },
  {
   "cell_type": "code",
   "execution_count": 150,
   "metadata": {},
   "outputs": [
    {
     "data": {
      "text/plain": [
       "array([0])"
      ]
     },
     "execution_count": 150,
     "metadata": {},
     "output_type": "execute_result"
    }
   ],
   "source": [
    "loaded_pickle.predict(np_feature.tolist())"
   ]
  },
  {
   "cell_type": "code",
   "execution_count": 151,
   "metadata": {},
   "outputs": [
    {
     "data": {
      "text/plain": [
       "array([[2.40000000e+01, 1.00000000e-06, 3.72960000e+04, 1.00000000e+00,\n",
       "        0.00000000e+00, 0.00000000e+00, 1.00000000e+00, 0.00000000e+00,\n",
       "        0.00000000e+00, 3.31000000e+03, 1.20000000e+01, 0.00000000e+00,\n",
       "        1.50000000e+01, 0.00000000e+00, 5.00000000e+01, 1.12676737e+01]])"
      ]
     },
     "execution_count": 151,
     "metadata": {},
     "output_type": "execute_result"
    }
   ],
   "source": [
    "np_feature"
   ]
  },
  {
   "cell_type": "code",
   "execution_count": null,
   "metadata": {
    "collapsed": true
   },
   "outputs": [],
   "source": []
  }
 ],
 "metadata": {
  "kernelspec": {
   "display_name": "dataProcess",
   "language": "python",
   "name": "dataprocess"
  },
  "language_info": {
   "codemirror_mode": {
    "name": "ipython",
    "version": 2
   },
   "file_extension": ".py",
   "mimetype": "text/x-python",
   "name": "python",
   "nbconvert_exporter": "python",
   "pygments_lexer": "ipython2",
   "version": "2.7.14"
  }
 },
 "nbformat": 4,
 "nbformat_minor": 2
}
