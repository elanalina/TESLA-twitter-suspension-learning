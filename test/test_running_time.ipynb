{
 "cells": [
  {
   "cell_type": "markdown",
   "metadata": {},
   "source": [
    "### Test the running time\n",
    "\n",
    "For using our model on a website, we need to focus on if the whole predicted process can be done in a short time. So it needs to test the running time of each steps."
   ]
  },
  {
   "cell_type": "markdown",
   "metadata": {},
   "source": [
    "#### Step 1: crawl the user information from Twitter API and transfer it to the features we want to feed our classifiers"
   ]
  },
  {
   "cell_type": "markdown",
   "metadata": {},
   "source": [
    "##### step 1.1: measure the running time of the features from Account:\n",
    "\n",
    "Count of favorite tweets: directly from json favorite_count\n",
    "\n",
    "Friends to follower ratio: json friends_count/followers_count\n",
    "\n",
    "Total status count: json statuses_count\n",
    "\n",
    "Default profile image: json default_profile_image -> transform into one hot vector \n",
    "\n",
    "Default profile: json default_profile -> transform into one hot vector (same as default profile image, just make them binary category vars)\n",
    "\n",
    "Account ages: in real time = json created_at - the crawled date. In training set: json created_at - crawled_at\n",
    "\n",
    "User name and screen_name = json:  count # of char and # of numbers. See this paper 1-s2.0-S016740481730250X-main “The assumption of this method is that the username pattern “letter + number” was highly correlated with spamming accounts”\n",
    "\n",
    "Length of description: json len(description) \n",
    "\n",
    "Description text - TFIDF\n",
    "\n",
    "Average tweet per day: In real time: statuses_count/(the crawled date - created_at).days() In training set: json statuses_count/(crawled_at - created_at).days() "
   ]
  },
  {
   "cell_type": "code",
   "execution_count": 11,
   "metadata": {},
   "outputs": [],
   "source": [
    "import twitter\n",
    "import time\n",
    "from sklearn.feature_extraction.text import CountVectorizer\n",
    "from sklearn.feature_extraction.text import TfidfTransformer\n",
    "\n",
    "api = twitter.Api(consumer_key=CONSUMER_KEY,\n",
    "                     consumer_secret=CONSUMER_SECRET,\n",
    "                     access_token_key=ACCESS_TOKEN_KEY,\n",
    "                     access_token_secret=ACCESS_TOKEN_SECRET)\n"
   ]
  },
  {
   "cell_type": "code",
   "execution_count": 12,
   "metadata": {
    "collapsed": true
   },
   "outputs": [],
   "source": [
    "def get_user(user_id=None, screen_name=None):\n",
    "    json = api.GetUser(user_id=user_id, screen_name=screen_name, include_entities=True, return_json=False)\n",
    "    json_data = json._json\n",
    "    \n",
    "    # feature Count of favorite tweets\n",
    "    Count_of_favorite_tweets = int(json_data['favourites_count'])\n",
    "    # feature Friends to follower ratio\n",
    "    Friends_to_follower_ratio = float(json_data['friends_count']) / json_data['followers_count']\n",
    "    # feature Total status count\n",
    "    Total_status_count = int(json_data['statuses_count'])\n",
    "    \n",
    "    # feature Default profile image & Default profile\n",
    "    if json_data['default_profile_image'] == 'FALSE':\n",
    "        Default_profile_image = 0\n",
    "    else:\n",
    "        Default_profile_image = 1\n",
    "\n",
    "    if json_data['default_profile'] == 'FALSE':\n",
    "        Default_profile = 0\n",
    "    else:\n",
    "        Default_profile = 1\n",
    "    \n",
    "    # feature Account ages\n",
    "    created_at = json_data['created_at']\n",
    "    Account_age = survival_time(created_at)\n",
    "\n",
    "    # feature User name and screen_name\n",
    "    User_name = json_data['name']\n",
    "    Screen_name = json_data['screen_name']\n",
    "    User_name_digit, User_name_char = counter(User_name)\n",
    "    Screen_name_digit, Screen_name_char = counter(Screen_name)\n",
    "\n",
    "    # feature Length of description and Description text\n",
    "    description_pre = json_data['description']\n",
    "    Description_length, Description_tfidf = preprocess_description(description_pre)\n",
    "    \n",
    "    # feature Average tweet per day\n",
    "    Average_tweets_per_day = Total_status_count / float(Account_age)\n",
    "\n",
    "    feature = list()\n",
    "    feature.append(Count_of_favorite_tweets)\n",
    "    feature.append(Friends_to_follower_ratio)\n",
    "    feature.append(Total_status_count)\n",
    "    feature.append(Default_profile_image)\n",
    "    feature.append(Default_profile)\n",
    "    feature.append(Account_age)\n",
    "    feature.append(User_name_digit)\n",
    "    feature.append(User_name_char)\n",
    "    feature.append(Screen_name_digit)\n",
    "    feature.append(Screen_name_char)\n",
    "    feature.append(Description_length)\n",
    "    feature.append(Description_tfidf)\n",
    "    feature.append(Average_tweets_per_day)\n",
    "\n",
    "    return feature"
   ]
  },
  {
   "cell_type": "code",
   "execution_count": 13,
   "metadata": {
    "collapsed": true
   },
   "outputs": [],
   "source": [
    "def survival_time(created_at):\n",
    "    # get the account ages: crawl at time - created at time \n",
    "    current_time = time.localtime(time.time())\n",
    "    current_year = current_time.tm_year\n",
    "    current_month = current_time.tm_mon\n",
    "    current_day = current_time.tm_mday\n",
    "\n",
    "    meta = created_at.split(\" \")\n",
    "    created_month = meta[1]\n",
    "    if created_month == 'Jan':\n",
    "        created_month = int(1)\n",
    "    elif created_month == 'Feb':\n",
    "        created_month = int(2)\n",
    "    elif created_month == 'Mar':\n",
    "        created_month = int(3)\n",
    "    elif created_month == 'Apr':\n",
    "        created_month = int(4)\n",
    "    elif created_month == 'May':\n",
    "        created_month = int(5)\n",
    "    elif created_month == 'Jun':\n",
    "        created_month = int(6)\n",
    "    elif created_month == 'Jul':\n",
    "        created_month = int(7)\n",
    "    elif created_month == 'Aug':\n",
    "        created_month = int(8)\n",
    "    elif created_month == 'Sep':\n",
    "        created_month = int(9)\n",
    "    elif created_month == 'Oct':\n",
    "        created_month = int(10)\n",
    "    elif created_month == 'Nov':\n",
    "        created_month = int(11)\n",
    "    elif created_month == 'Dec':\n",
    "        created_month = int(12)\n",
    "    created_day = int(meta[2])\n",
    "    created_year = int(meta[5])\n",
    "\n",
    "    Account_age = (current_year - created_year) * 365 + (current_month - created_month) * 30 + (current_day - created_day)\n",
    "\n",
    "    return Account_age"
   ]
  },
  {
   "cell_type": "code",
   "execution_count": 14,
   "metadata": {
    "collapsed": true
   },
   "outputs": [],
   "source": [
    "def counter(name):\n",
    "    # counter of char & counter of digit\n",
    "    numbers = sum(c.isdigit() for c in name)\n",
    "    words   = sum(c.isalpha() for c in name)\n",
    "\n",
    "    return numbers, words"
   ]
  },
  {
   "cell_type": "code",
   "execution_count": 30,
   "metadata": {},
   "outputs": [],
   "source": [
    "def preprocess_description(description):\n",
    "    # preprocess the description text\n",
    "    description_length = len(description)\n",
    "    des_list = list()\n",
    "    des_list.append(description)\n",
    "    count_vect = CountVectorizer()\n",
    "    X_train_counts = count_vect.fit_transform(des_list)\n",
    "    # X_train_counts.shape\n",
    "    # tf_transformer = TfidfTransformer(use_idf=False).fit(X_train_counts)\n",
    "    # X_train_tf = tf_transformer.transform(X_train_counts)\n",
    "    # X_train_tf.shape\n",
    "    tfidf_transformer = TfidfTransformer()\n",
    "    des_train_tfidf = tfidf_transformer.fit_transform(X_train_counts)\n",
    "    \n",
    "    return description_length, des_train_tfidf"
   ]
  },
  {
   "cell_type": "code",
   "execution_count": 31,
   "metadata": {
    "collapsed": true
   },
   "outputs": [],
   "source": [
    "def measure_running_time(user_id=None, screen_name=None):\n",
    "    # measure the running time of getting the features from the input\n",
    "    start = time.clock()\n",
    "    get_user(user_id=user_id, screen_name=screen_name)\n",
    "    end = time.clock()\n",
    "    print('function took %0.5f ms' % ((end-start)*1000.0))"
   ]
  },
  {
   "cell_type": "code",
   "execution_count": 32,
   "metadata": {},
   "outputs": [
    {
     "name": "stdout",
     "output_type": "stream",
     "text": [
      "function took 31.81400 ms\n"
     ]
    }
   ],
   "source": [
    "measure_running_time(screen_name='realDonaldTrump')"
   ]
  },
  {
   "cell_type": "code",
   "execution_count": 33,
   "metadata": {},
   "outputs": [
    {
     "name": "stdout",
     "output_type": "stream",
     "text": [
      "[24, 8.95377203314376e-07, 37270, 1, 1, 3307, 0, 12, 0, 15, 50, <1x7 sparse matrix of type '<type 'numpy.float64'>'\n",
      "\twith 7 stored elements in Compressed Sparse Row format>, 11.27003326277593]\n"
     ]
    }
   ],
   "source": [
    "feature = get_user(screen_name='realDonaldTrump')\n",
    "print feature"
   ]
  },
  {
   "cell_type": "code",
   "execution_count": null,
   "metadata": {
    "collapsed": true
   },
   "outputs": [],
   "source": []
  }
 ],
 "metadata": {
  "kernelspec": {
   "display_name": "dataProcess",
   "language": "python",
   "name": "dataprocess"
  },
  "language_info": {
   "codemirror_mode": {
    "name": "ipython",
    "version": 2
   },
   "file_extension": ".py",
   "mimetype": "text/x-python",
   "name": "python",
   "nbconvert_exporter": "python",
   "pygments_lexer": "ipython2",
   "version": "2.7.14"
  }
 },
 "nbformat": 4,
 "nbformat_minor": 2
}
